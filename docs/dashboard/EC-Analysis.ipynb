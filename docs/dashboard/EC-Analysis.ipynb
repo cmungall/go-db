{
 "cells": [
  {
   "cell_type": "code",
   "execution_count": 1,
   "id": "initial_id",
   "metadata": {
    "collapsed": true,
    "ExecuteTime": {
     "end_time": "2024-04-27T19:47:01.416103Z",
     "start_time": "2024-04-27T19:47:00.979412Z"
    }
   },
   "outputs": [
    {
     "name": "stdout",
     "output_type": "stream",
     "text": [
      "Deploy FastAPI apps for free on Ploomber Cloud! Learn more: https://ploomber.io/s/signup\n"
     ]
    },
    {
     "data": {
      "text/plain": "Tip: You may define configurations in /Users/cjm/repos/go-db/pyproject.toml or /Users/cjm/.jupysql/config. ",
      "text/html": "<span style=\"None\">Tip: You may define configurations in /Users/cjm/repos/go-db/pyproject.toml or /Users/cjm/.jupysql/config. </span>"
     },
     "metadata": {},
     "output_type": "display_data"
    },
    {
     "data": {
      "text/plain": "<IPython.core.display.HTML object>",
      "text/html": "Please review our <a href='https://jupysql.ploomber.io/en/latest/api/configuration.html#loading-from-a-file'>configuration guideline</a>."
     },
     "metadata": {},
     "output_type": "display_data"
    },
    {
     "data": {
      "text/plain": "Did not find user configurations in /Users/cjm/repos/go-db/pyproject.toml.",
      "text/html": "<span style=\"None\">Did not find user configurations in /Users/cjm/repos/go-db/pyproject.toml.</span>"
     },
     "metadata": {},
     "output_type": "display_data"
    }
   ],
   "source": [
    "%load_ext sql"
   ]
  },
  {
   "cell_type": "code",
   "execution_count": 2,
   "outputs": [
    {
     "data": {
      "text/plain": "Connecting to 'duckdb:///../../tmp/ecocyc.db'",
      "text/html": "<span style=\"None\">Connecting to &#x27;duckdb:///../../tmp/ecocyc.db&#x27;</span>"
     },
     "metadata": {},
     "output_type": "display_data"
    }
   ],
   "source": [
    "%sql duckdb:///../../tmp/ecocyc.db"
   ],
   "metadata": {
    "collapsed": false,
    "ExecuteTime": {
     "end_time": "2024-04-27T19:47:01.573379Z",
     "start_time": "2024-04-27T19:47:01.416477Z"
    }
   },
   "id": "cf61ab975b4fa7db"
  },
  {
   "cell_type": "code",
   "execution_count": 3,
   "outputs": [
    {
     "data": {
      "text/plain": "Running query in 'duckdb:///../../tmp/ecocyc.db'",
      "text/html": "<span style=\"None\">Running query in &#x27;duckdb:///../../tmp/ecocyc.db&#x27;</span>"
     },
     "metadata": {},
     "output_type": "display_data"
    },
    {
     "data": {
      "text/plain": "+-------+\n| Count |\n+-------+\n+-------+",
      "text/html": "<table>\n    <thead>\n        <tr>\n            <th>Count</th>\n        </tr>\n    </thead>\n    <tbody>\n    </tbody>\n</table>"
     },
     "execution_count": 3,
     "metadata": {},
     "output_type": "execute_result"
    }
   ],
   "source": [
    "%%sql\n",
    "CREATE VIEW IF NOT EXISTS EC_rule_violation AS\n",
    "SELECT DISTINCT a.internal_id, 'EC_rule' AS rule, a.db, a.db_object_id, a.ontology_class_ref AS t1, b.ontology_class_ref AS t2, e.xref AS ec1, e2.xref AS ec2, a.db_object_symbol, a.db_object_taxon\n",
    "FROM gaf_association AS a,\n",
    "    gaf_association AS b,\n",
    "    term_ec AS e,\n",
    "    term_ec AS e2\n",
    "WHERE e.level = 4\n",
    " AND e2.level = 4\n",
    " AND a.db_object_id = b.db_object_id\n",
    "    AND a.ontology_class_ref != b.ontology_class_ref\n",
    "    AND a.db = b.db\n",
    "    AND b.ontology_class_ref = e2.id\n",
    "    AND a.ontology_class_ref = e.id\n",
    "    AND a.ontology_class_ref IN (SELECT id FROM term_ec WHERE level = 4)\n",
    "    AND b.ontology_class_ref IN (SELECT id FROM term_ec WHERE level = 4);"
   ],
   "metadata": {
    "collapsed": false,
    "ExecuteTime": {
     "end_time": "2024-04-27T19:47:04.639977Z",
     "start_time": "2024-04-27T19:47:04.556484Z"
    }
   },
   "id": "c2b983cbdca828b"
  },
  {
   "cell_type": "code",
   "execution_count": 13,
   "outputs": [
    {
     "data": {
      "text/plain": "Running query in 'duckdb:///../../tmp/ecocyc.db'",
      "text/html": "<span style=\"None\">Running query in &#x27;duckdb:///../../tmp/ecocyc.db&#x27;</span>"
     },
     "metadata": {},
     "output_type": "display_data"
    },
    {
     "data": {
      "text/plain": "+--------------+\n| count_star() |\n+--------------+\n|     8648     |\n+--------------+",
      "text/html": "<table>\n    <thead>\n        <tr>\n            <th>count_star()</th>\n        </tr>\n    </thead>\n    <tbody>\n        <tr>\n            <td>8648</td>\n        </tr>\n    </tbody>\n</table>"
     },
     "execution_count": 13,
     "metadata": {},
     "output_type": "execute_result"
    }
   ],
   "source": [
    "%%sql\n",
    "SELECT count(*) FROM EC_rule_violation WHERE ec1 != ec2;"
   ],
   "metadata": {
    "collapsed": false,
    "ExecuteTime": {
     "end_time": "2024-04-27T19:51:58.961941Z",
     "start_time": "2024-04-27T19:51:58.806633Z"
    }
   },
   "id": "21fe54283cd571a6"
  },
  {
   "cell_type": "code",
   "execution_count": 12,
   "outputs": [
    {
     "data": {
      "text/plain": "Running query in 'duckdb:///../../tmp/ecocyc.db'",
      "text/html": "<span style=\"None\">Running query in &#x27;duckdb:///../../tmp/ecocyc.db&#x27;</span>"
     },
     "metadata": {},
     "output_type": "display_data"
    },
    {
     "data": {
      "text/plain": "+-------------+---------+-----------+--------------+------------+------------+--------------+-------------+------------------+-----------------+\n| internal_id |   rule  |     db    | db_object_id |     t1     |     t2     |     ec1      |     ec2     | db_object_symbol | db_object_taxon |\n+-------------+---------+-----------+--------------+------------+------------+--------------+-------------+------------------+-----------------+\n|    37329    | EC_rule | UniProtKB |    P31119    | GO:0008779 | GO:0004467 | EC:2.3.1.40  |  EC:6.2.1.3 |       aas        |   taxon:83333   |\n|    17564    | EC_rule | UniProtKB |    P0ABF6    | GO:0004126 | GO:0047844 |  EC:3.5.4.5  | EC:3.5.4.14 |       cdd        |   taxon:83333   |\n|    31761    | EC_rule | UniProtKB |    P19926    | GO:0008877 | GO:0050308 | EC:3.1.3.10  | EC:3.1.3.23 |       agp        |   taxon:83333   |\n|    57629    | EC_rule | UniProtKB |    P40874    | GO:0008115 | GO:0050131 |  EC:1.5.3.1  |  EC:1.5.3.2 |       solA       |   taxon:83333   |\n|    23410    | EC_rule | UniProtKB |    P0AES0    | GO:0008884 | GO:0008885 | EC:3.5.1.78  |  EC:6.3.1.8 |       gss        |   taxon:83333   |\n|    23409    | EC_rule | UniProtKB |    P0AES0    | GO:0008884 | GO:0008885 | EC:3.5.1.78  |  EC:6.3.1.8 |       gss        |   taxon:83333   |\n|    32022    | EC_rule | UniProtKB |    P21177    | GO:0004165 | GO:0003857 |  EC:5.3.3.8  | EC:1.1.1.35 |       fadB       |   taxon:83333   |\n|    32021    | EC_rule | UniProtKB |    P21177    | GO:0004165 | GO:0003857 |  EC:5.3.3.8  | EC:1.1.1.35 |       fadB       |   taxon:83333   |\n|    31953    | EC_rule | UniProtKB |    P21165    | GO:0016805 | GO:0102009 | EC:3.4.13.18 | EC:3.4.13.9 |       pepQ       |   taxon:83333   |\n|    31951    | EC_rule | UniProtKB |    P21165    | GO:0016805 | GO:0102009 | EC:3.4.13.21 | EC:3.4.13.9 |       pepQ       |   taxon:83333   |\n+-------------+---------+-----------+--------------+------------+------------+--------------+-------------+------------------+-----------------+\nTruncated to displaylimit of 10.",
      "text/html": "<table>\n    <thead>\n        <tr>\n            <th>internal_id</th>\n            <th>rule</th>\n            <th>db</th>\n            <th>db_object_id</th>\n            <th>t1</th>\n            <th>t2</th>\n            <th>ec1</th>\n            <th>ec2</th>\n            <th>db_object_symbol</th>\n            <th>db_object_taxon</th>\n        </tr>\n    </thead>\n    <tbody>\n        <tr>\n            <td>37329</td>\n            <td>EC_rule</td>\n            <td>UniProtKB</td>\n            <td>P31119</td>\n            <td>GO:0008779</td>\n            <td>GO:0004467</td>\n            <td>EC:2.3.1.40</td>\n            <td>EC:6.2.1.3</td>\n            <td>aas</td>\n            <td>taxon:83333</td>\n        </tr>\n        <tr>\n            <td>17564</td>\n            <td>EC_rule</td>\n            <td>UniProtKB</td>\n            <td>P0ABF6</td>\n            <td>GO:0004126</td>\n            <td>GO:0047844</td>\n            <td>EC:3.5.4.5</td>\n            <td>EC:3.5.4.14</td>\n            <td>cdd</td>\n            <td>taxon:83333</td>\n        </tr>\n        <tr>\n            <td>31761</td>\n            <td>EC_rule</td>\n            <td>UniProtKB</td>\n            <td>P19926</td>\n            <td>GO:0008877</td>\n            <td>GO:0050308</td>\n            <td>EC:3.1.3.10</td>\n            <td>EC:3.1.3.23</td>\n            <td>agp</td>\n            <td>taxon:83333</td>\n        </tr>\n        <tr>\n            <td>57629</td>\n            <td>EC_rule</td>\n            <td>UniProtKB</td>\n            <td>P40874</td>\n            <td>GO:0008115</td>\n            <td>GO:0050131</td>\n            <td>EC:1.5.3.1</td>\n            <td>EC:1.5.3.2</td>\n            <td>solA</td>\n            <td>taxon:83333</td>\n        </tr>\n        <tr>\n            <td>23410</td>\n            <td>EC_rule</td>\n            <td>UniProtKB</td>\n            <td>P0AES0</td>\n            <td>GO:0008884</td>\n            <td>GO:0008885</td>\n            <td>EC:3.5.1.78</td>\n            <td>EC:6.3.1.8</td>\n            <td>gss</td>\n            <td>taxon:83333</td>\n        </tr>\n        <tr>\n            <td>23409</td>\n            <td>EC_rule</td>\n            <td>UniProtKB</td>\n            <td>P0AES0</td>\n            <td>GO:0008884</td>\n            <td>GO:0008885</td>\n            <td>EC:3.5.1.78</td>\n            <td>EC:6.3.1.8</td>\n            <td>gss</td>\n            <td>taxon:83333</td>\n        </tr>\n        <tr>\n            <td>32022</td>\n            <td>EC_rule</td>\n            <td>UniProtKB</td>\n            <td>P21177</td>\n            <td>GO:0004165</td>\n            <td>GO:0003857</td>\n            <td>EC:5.3.3.8</td>\n            <td>EC:1.1.1.35</td>\n            <td>fadB</td>\n            <td>taxon:83333</td>\n        </tr>\n        <tr>\n            <td>32021</td>\n            <td>EC_rule</td>\n            <td>UniProtKB</td>\n            <td>P21177</td>\n            <td>GO:0004165</td>\n            <td>GO:0003857</td>\n            <td>EC:5.3.3.8</td>\n            <td>EC:1.1.1.35</td>\n            <td>fadB</td>\n            <td>taxon:83333</td>\n        </tr>\n        <tr>\n            <td>31953</td>\n            <td>EC_rule</td>\n            <td>UniProtKB</td>\n            <td>P21165</td>\n            <td>GO:0016805</td>\n            <td>GO:0102009</td>\n            <td>EC:3.4.13.18</td>\n            <td>EC:3.4.13.9</td>\n            <td>pepQ</td>\n            <td>taxon:83333</td>\n        </tr>\n        <tr>\n            <td>31951</td>\n            <td>EC_rule</td>\n            <td>UniProtKB</td>\n            <td>P21165</td>\n            <td>GO:0016805</td>\n            <td>GO:0102009</td>\n            <td>EC:3.4.13.21</td>\n            <td>EC:3.4.13.9</td>\n            <td>pepQ</td>\n            <td>taxon:83333</td>\n        </tr>\n    </tbody>\n</table>\n<span style=\"font-style:italic;text-align:center;\">Truncated to <a href=\"https://jupysql.ploomber.io/en/latest/api/configuration.html#displaylimit\">displaylimit</a> of 10.</span>"
     },
     "execution_count": 12,
     "metadata": {},
     "output_type": "execute_result"
    }
   ],
   "source": [
    "%%sql\n",
    "SELECT * FROM EC_rule_violation WHERE ec1 != ec2 LIMIT 10;"
   ],
   "metadata": {
    "collapsed": false,
    "ExecuteTime": {
     "end_time": "2024-04-27T19:51:10.801900Z",
     "start_time": "2024-04-27T19:51:10.631325Z"
    }
   },
   "id": "5a56bdcde6c7189a"
  },
  {
   "cell_type": "code",
   "execution_count": 27,
   "outputs": [
    {
     "data": {
      "text/plain": "Running query in 'duckdb:///../../tmp/ecocyc.db'",
      "text/html": "<span style=\"None\">Running query in &#x27;duckdb:///../../tmp/ecocyc.db&#x27;</span>"
     },
     "metadata": {},
     "output_type": "display_data"
    },
    {
     "data": {
      "text/plain": "+-------+\n| Count |\n+-------+\n+-------+",
      "text/html": "<table>\n    <thead>\n        <tr>\n            <th>Count</th>\n        </tr>\n    </thead>\n    <tbody>\n    </tbody>\n</table>"
     },
     "execution_count": 27,
     "metadata": {},
     "output_type": "execute_result"
    }
   ],
   "source": [
    "%%sql\n",
    "CREATE OR REPLACE VIEW EC_rule_violation_info AS\n",
    "   SELECT DISTINCT ec1,ec2,db_object_id,db_object_symbol,t1,l1.label AS t1label, t2, l2.label AS t2label\n",
    "   FROM EC_rule_violation r INNER JOIN term_label l1 ON l1.id=t1 INNER JOIN term_label l2 ON l2.id=t2\n",
    "   WHERE ec1 != ec2\n",
    "     AND NOT EXISTS (select 1 from entailed_edge where subject=t1 and object=t2) AND NOT EXISTS (select 1 from entailed_edge where subject=t2 and object=t1) \n",
    "   ORDER BY ec1, ec2;"
   ],
   "metadata": {
    "collapsed": false,
    "ExecuteTime": {
     "end_time": "2024-04-27T20:05:26.977397Z",
     "start_time": "2024-04-27T20:05:26.884610Z"
    }
   },
   "id": "308c19f4872e090c"
  },
  {
   "cell_type": "code",
   "execution_count": 30,
   "outputs": [
    {
     "data": {
      "text/plain": "Running query in 'duckdb:///../../tmp/ecocyc.db'",
      "text/html": "<span style=\"None\">Running query in &#x27;duckdb:///../../tmp/ecocyc.db&#x27;</span>"
     },
     "metadata": {},
     "output_type": "display_data"
    },
    {
     "data": {
      "text/plain": "              ec1           ec2 db_object_id db_object_symbol          t1  \\\n0      EC:1.1.1.1  EC:1.1.1.103       P37686             yiaY  GO:0004022   \n1      EC:1.1.1.1  EC:1.1.1.284       P25437             frmA  GO:0004022   \n2      EC:1.1.1.1  EC:1.1.1.284       P25437             frmA  GO:0004022   \n3      EC:1.1.1.1  EC:1.1.1.284       P25437             frmA  GO:0004022   \n4      EC:1.1.1.1   EC:1.1.1.77       P0A9S1             fucO  GO:0004022   \n...           ...           ...          ...              ...         ...   \n4735   EC:7.1.1.9    EC:7.1.1.3       P0ABI8             cyoB  GO:0004129   \n4736  EC:7.2.2.12   EC:7.2.2.21       P37617             zntA  GO:0016463   \n4737  EC:7.2.2.21   EC:7.2.2.12       P37617             zntA  GO:0008551   \n4738   EC:7.2.2.8    EC:7.2.2.9       Q59385             copA  GO:0140581   \n4739   EC:7.2.2.9    EC:7.2.2.8       Q59385             copA  GO:0043682   \n\n                                            t1label          t2  \\\n0             alcohol dehydrogenase (NAD+) activity  GO:0008743   \n1             alcohol dehydrogenase (NAD+) activity  GO:0106321   \n2             alcohol dehydrogenase (NAD+) activity  GO:0051903   \n3             alcohol dehydrogenase (NAD+) activity  GO:0106322   \n4             alcohol dehydrogenase (NAD+) activity  GO:0008912   \n...                                             ...         ...   \n4735                  cytochrome-c oxidase activity  GO:0009486   \n4736               P-type zinc transporter activity  GO:0008551   \n4737            P-type cadmium transporter activity  GO:0016463   \n4738  P-type monovalent copper transporter activity  GO:0043682   \n4739    P-type divalent copper transporter activity  GO:0140581   \n\n                                                t2label  \n0                  L-threonine 3-dehydrogenase activity  \n1     S-(hydroxymethyl)glutathione dehydrogenase NAD...  \n2     S-(hydroxymethyl)glutathione dehydrogenase act...  \n3     S-(hydroxymethyl)glutathione dehydrogenase NAD...  \n4                       lactaldehyde reductase activity  \n...                                                 ...  \n4735          cytochrome bo3 ubiquinol oxidase activity  \n4736                P-type cadmium transporter activity  \n4737                   P-type zinc transporter activity  \n4738        P-type divalent copper transporter activity  \n4739      P-type monovalent copper transporter activity  \n\n[4740 rows x 8 columns]",
      "text/html": "<div>\n<style scoped>\n    .dataframe tbody tr th:only-of-type {\n        vertical-align: middle;\n    }\n\n    .dataframe tbody tr th {\n        vertical-align: top;\n    }\n\n    .dataframe thead th {\n        text-align: right;\n    }\n</style>\n<table border=\"1\" class=\"dataframe\">\n  <thead>\n    <tr style=\"text-align: right;\">\n      <th></th>\n      <th>ec1</th>\n      <th>ec2</th>\n      <th>db_object_id</th>\n      <th>db_object_symbol</th>\n      <th>t1</th>\n      <th>t1label</th>\n      <th>t2</th>\n      <th>t2label</th>\n    </tr>\n  </thead>\n  <tbody>\n    <tr>\n      <th>0</th>\n      <td>EC:1.1.1.1</td>\n      <td>EC:1.1.1.103</td>\n      <td>P37686</td>\n      <td>yiaY</td>\n      <td>GO:0004022</td>\n      <td>alcohol dehydrogenase (NAD+) activity</td>\n      <td>GO:0008743</td>\n      <td>L-threonine 3-dehydrogenase activity</td>\n    </tr>\n    <tr>\n      <th>1</th>\n      <td>EC:1.1.1.1</td>\n      <td>EC:1.1.1.284</td>\n      <td>P25437</td>\n      <td>frmA</td>\n      <td>GO:0004022</td>\n      <td>alcohol dehydrogenase (NAD+) activity</td>\n      <td>GO:0106321</td>\n      <td>S-(hydroxymethyl)glutathione dehydrogenase NAD...</td>\n    </tr>\n    <tr>\n      <th>2</th>\n      <td>EC:1.1.1.1</td>\n      <td>EC:1.1.1.284</td>\n      <td>P25437</td>\n      <td>frmA</td>\n      <td>GO:0004022</td>\n      <td>alcohol dehydrogenase (NAD+) activity</td>\n      <td>GO:0051903</td>\n      <td>S-(hydroxymethyl)glutathione dehydrogenase act...</td>\n    </tr>\n    <tr>\n      <th>3</th>\n      <td>EC:1.1.1.1</td>\n      <td>EC:1.1.1.284</td>\n      <td>P25437</td>\n      <td>frmA</td>\n      <td>GO:0004022</td>\n      <td>alcohol dehydrogenase (NAD+) activity</td>\n      <td>GO:0106322</td>\n      <td>S-(hydroxymethyl)glutathione dehydrogenase NAD...</td>\n    </tr>\n    <tr>\n      <th>4</th>\n      <td>EC:1.1.1.1</td>\n      <td>EC:1.1.1.77</td>\n      <td>P0A9S1</td>\n      <td>fucO</td>\n      <td>GO:0004022</td>\n      <td>alcohol dehydrogenase (NAD+) activity</td>\n      <td>GO:0008912</td>\n      <td>lactaldehyde reductase activity</td>\n    </tr>\n    <tr>\n      <th>...</th>\n      <td>...</td>\n      <td>...</td>\n      <td>...</td>\n      <td>...</td>\n      <td>...</td>\n      <td>...</td>\n      <td>...</td>\n      <td>...</td>\n    </tr>\n    <tr>\n      <th>4735</th>\n      <td>EC:7.1.1.9</td>\n      <td>EC:7.1.1.3</td>\n      <td>P0ABI8</td>\n      <td>cyoB</td>\n      <td>GO:0004129</td>\n      <td>cytochrome-c oxidase activity</td>\n      <td>GO:0009486</td>\n      <td>cytochrome bo3 ubiquinol oxidase activity</td>\n    </tr>\n    <tr>\n      <th>4736</th>\n      <td>EC:7.2.2.12</td>\n      <td>EC:7.2.2.21</td>\n      <td>P37617</td>\n      <td>zntA</td>\n      <td>GO:0016463</td>\n      <td>P-type zinc transporter activity</td>\n      <td>GO:0008551</td>\n      <td>P-type cadmium transporter activity</td>\n    </tr>\n    <tr>\n      <th>4737</th>\n      <td>EC:7.2.2.21</td>\n      <td>EC:7.2.2.12</td>\n      <td>P37617</td>\n      <td>zntA</td>\n      <td>GO:0008551</td>\n      <td>P-type cadmium transporter activity</td>\n      <td>GO:0016463</td>\n      <td>P-type zinc transporter activity</td>\n    </tr>\n    <tr>\n      <th>4738</th>\n      <td>EC:7.2.2.8</td>\n      <td>EC:7.2.2.9</td>\n      <td>Q59385</td>\n      <td>copA</td>\n      <td>GO:0140581</td>\n      <td>P-type monovalent copper transporter activity</td>\n      <td>GO:0043682</td>\n      <td>P-type divalent copper transporter activity</td>\n    </tr>\n    <tr>\n      <th>4739</th>\n      <td>EC:7.2.2.9</td>\n      <td>EC:7.2.2.8</td>\n      <td>Q59385</td>\n      <td>copA</td>\n      <td>GO:0043682</td>\n      <td>P-type divalent copper transporter activity</td>\n      <td>GO:0140581</td>\n      <td>P-type monovalent copper transporter activity</td>\n    </tr>\n  </tbody>\n</table>\n<p>4740 rows × 8 columns</p>\n</div>"
     },
     "execution_count": 30,
     "metadata": {},
     "output_type": "execute_result"
    }
   ],
   "source": [
    "rows = %sql select * from EC_rule_violation_info;\n",
    "data = rows.DataFrame()\n",
    "data"
   ],
   "metadata": {
    "collapsed": false,
    "ExecuteTime": {
     "end_time": "2024-04-27T20:06:24.209784Z",
     "start_time": "2024-04-27T20:06:23.622071Z"
    }
   },
   "id": "70ea109e97000f39"
  },
  {
   "cell_type": "code",
   "execution_count": 34,
   "outputs": [],
   "source": [
    "def compare_levels(ec1, ec2):\n",
    "    ec1 = ec1.split('.')\n",
    "    ec2 = ec2.split('.')\n",
    "    for i in range(min(len(ec1), len(ec2))):\n",
    "        if ec1[i] != ec2[i]:\n",
    "            return 4-i\n",
    "    return min(len(ec1), len(ec2))\n",
    "assert compare_levels(\"EC:1.1.1.1\", \"EC:1.2.1.1\") == 3\n",
    "assert compare_levels(\"EC:1.1.1.1\", \"EC:1.1.1.2\") == 1"
   ],
   "metadata": {
    "collapsed": false,
    "ExecuteTime": {
     "end_time": "2024-04-27T20:08:21.085375Z",
     "start_time": "2024-04-27T20:08:21.076492Z"
    }
   },
   "id": "95262d72d173a38a"
  },
  {
   "cell_type": "code",
   "execution_count": 35,
   "outputs": [
    {
     "data": {
      "text/plain": "              ec1           ec2 db_object_id db_object_symbol          t1  \\\n0      EC:1.1.1.1  EC:1.1.1.103       P37686             yiaY  GO:0004022   \n1      EC:1.1.1.1  EC:1.1.1.284       P25437             frmA  GO:0004022   \n2      EC:1.1.1.1  EC:1.1.1.284       P25437             frmA  GO:0004022   \n3      EC:1.1.1.1  EC:1.1.1.284       P25437             frmA  GO:0004022   \n4      EC:1.1.1.1   EC:1.1.1.77       P0A9S1             fucO  GO:0004022   \n...           ...           ...          ...              ...         ...   \n4735   EC:7.1.1.9    EC:7.1.1.3       P0ABI8             cyoB  GO:0004129   \n4736  EC:7.2.2.12   EC:7.2.2.21       P37617             zntA  GO:0016463   \n4737  EC:7.2.2.21   EC:7.2.2.12       P37617             zntA  GO:0008551   \n4738   EC:7.2.2.8    EC:7.2.2.9       Q59385             copA  GO:0140581   \n4739   EC:7.2.2.9    EC:7.2.2.8       Q59385             copA  GO:0043682   \n\n                                            t1label          t2  \\\n0             alcohol dehydrogenase (NAD+) activity  GO:0008743   \n1             alcohol dehydrogenase (NAD+) activity  GO:0106321   \n2             alcohol dehydrogenase (NAD+) activity  GO:0051903   \n3             alcohol dehydrogenase (NAD+) activity  GO:0106322   \n4             alcohol dehydrogenase (NAD+) activity  GO:0008912   \n...                                             ...         ...   \n4735                  cytochrome-c oxidase activity  GO:0009486   \n4736               P-type zinc transporter activity  GO:0008551   \n4737            P-type cadmium transporter activity  GO:0016463   \n4738  P-type monovalent copper transporter activity  GO:0043682   \n4739    P-type divalent copper transporter activity  GO:0140581   \n\n                                                t2label  level  \n0                  L-threonine 3-dehydrogenase activity      1  \n1     S-(hydroxymethyl)glutathione dehydrogenase NAD...      1  \n2     S-(hydroxymethyl)glutathione dehydrogenase act...      1  \n3     S-(hydroxymethyl)glutathione dehydrogenase NAD...      1  \n4                       lactaldehyde reductase activity      1  \n...                                                 ...    ...  \n4735          cytochrome bo3 ubiquinol oxidase activity      1  \n4736                P-type cadmium transporter activity      1  \n4737                   P-type zinc transporter activity      1  \n4738        P-type divalent copper transporter activity      1  \n4739      P-type monovalent copper transporter activity      1  \n\n[4740 rows x 9 columns]",
      "text/html": "<div>\n<style scoped>\n    .dataframe tbody tr th:only-of-type {\n        vertical-align: middle;\n    }\n\n    .dataframe tbody tr th {\n        vertical-align: top;\n    }\n\n    .dataframe thead th {\n        text-align: right;\n    }\n</style>\n<table border=\"1\" class=\"dataframe\">\n  <thead>\n    <tr style=\"text-align: right;\">\n      <th></th>\n      <th>ec1</th>\n      <th>ec2</th>\n      <th>db_object_id</th>\n      <th>db_object_symbol</th>\n      <th>t1</th>\n      <th>t1label</th>\n      <th>t2</th>\n      <th>t2label</th>\n      <th>level</th>\n    </tr>\n  </thead>\n  <tbody>\n    <tr>\n      <th>0</th>\n      <td>EC:1.1.1.1</td>\n      <td>EC:1.1.1.103</td>\n      <td>P37686</td>\n      <td>yiaY</td>\n      <td>GO:0004022</td>\n      <td>alcohol dehydrogenase (NAD+) activity</td>\n      <td>GO:0008743</td>\n      <td>L-threonine 3-dehydrogenase activity</td>\n      <td>1</td>\n    </tr>\n    <tr>\n      <th>1</th>\n      <td>EC:1.1.1.1</td>\n      <td>EC:1.1.1.284</td>\n      <td>P25437</td>\n      <td>frmA</td>\n      <td>GO:0004022</td>\n      <td>alcohol dehydrogenase (NAD+) activity</td>\n      <td>GO:0106321</td>\n      <td>S-(hydroxymethyl)glutathione dehydrogenase NAD...</td>\n      <td>1</td>\n    </tr>\n    <tr>\n      <th>2</th>\n      <td>EC:1.1.1.1</td>\n      <td>EC:1.1.1.284</td>\n      <td>P25437</td>\n      <td>frmA</td>\n      <td>GO:0004022</td>\n      <td>alcohol dehydrogenase (NAD+) activity</td>\n      <td>GO:0051903</td>\n      <td>S-(hydroxymethyl)glutathione dehydrogenase act...</td>\n      <td>1</td>\n    </tr>\n    <tr>\n      <th>3</th>\n      <td>EC:1.1.1.1</td>\n      <td>EC:1.1.1.284</td>\n      <td>P25437</td>\n      <td>frmA</td>\n      <td>GO:0004022</td>\n      <td>alcohol dehydrogenase (NAD+) activity</td>\n      <td>GO:0106322</td>\n      <td>S-(hydroxymethyl)glutathione dehydrogenase NAD...</td>\n      <td>1</td>\n    </tr>\n    <tr>\n      <th>4</th>\n      <td>EC:1.1.1.1</td>\n      <td>EC:1.1.1.77</td>\n      <td>P0A9S1</td>\n      <td>fucO</td>\n      <td>GO:0004022</td>\n      <td>alcohol dehydrogenase (NAD+) activity</td>\n      <td>GO:0008912</td>\n      <td>lactaldehyde reductase activity</td>\n      <td>1</td>\n    </tr>\n    <tr>\n      <th>...</th>\n      <td>...</td>\n      <td>...</td>\n      <td>...</td>\n      <td>...</td>\n      <td>...</td>\n      <td>...</td>\n      <td>...</td>\n      <td>...</td>\n      <td>...</td>\n    </tr>\n    <tr>\n      <th>4735</th>\n      <td>EC:7.1.1.9</td>\n      <td>EC:7.1.1.3</td>\n      <td>P0ABI8</td>\n      <td>cyoB</td>\n      <td>GO:0004129</td>\n      <td>cytochrome-c oxidase activity</td>\n      <td>GO:0009486</td>\n      <td>cytochrome bo3 ubiquinol oxidase activity</td>\n      <td>1</td>\n    </tr>\n    <tr>\n      <th>4736</th>\n      <td>EC:7.2.2.12</td>\n      <td>EC:7.2.2.21</td>\n      <td>P37617</td>\n      <td>zntA</td>\n      <td>GO:0016463</td>\n      <td>P-type zinc transporter activity</td>\n      <td>GO:0008551</td>\n      <td>P-type cadmium transporter activity</td>\n      <td>1</td>\n    </tr>\n    <tr>\n      <th>4737</th>\n      <td>EC:7.2.2.21</td>\n      <td>EC:7.2.2.12</td>\n      <td>P37617</td>\n      <td>zntA</td>\n      <td>GO:0008551</td>\n      <td>P-type cadmium transporter activity</td>\n      <td>GO:0016463</td>\n      <td>P-type zinc transporter activity</td>\n      <td>1</td>\n    </tr>\n    <tr>\n      <th>4738</th>\n      <td>EC:7.2.2.8</td>\n      <td>EC:7.2.2.9</td>\n      <td>Q59385</td>\n      <td>copA</td>\n      <td>GO:0140581</td>\n      <td>P-type monovalent copper transporter activity</td>\n      <td>GO:0043682</td>\n      <td>P-type divalent copper transporter activity</td>\n      <td>1</td>\n    </tr>\n    <tr>\n      <th>4739</th>\n      <td>EC:7.2.2.9</td>\n      <td>EC:7.2.2.8</td>\n      <td>Q59385</td>\n      <td>copA</td>\n      <td>GO:0043682</td>\n      <td>P-type divalent copper transporter activity</td>\n      <td>GO:0140581</td>\n      <td>P-type monovalent copper transporter activity</td>\n      <td>1</td>\n    </tr>\n  </tbody>\n</table>\n<p>4740 rows × 9 columns</p>\n</div>"
     },
     "execution_count": 35,
     "metadata": {},
     "output_type": "execute_result"
    }
   ],
   "source": [
    "# create a new column at start of dataframe with the level of the comparison\n",
    "data['level'] = data.apply(lambda row: compare_levels(row['ec1'], row['ec2']), axis=1)\n",
    "data"
   ],
   "metadata": {
    "collapsed": false,
    "ExecuteTime": {
     "end_time": "2024-04-27T20:08:50.262644Z",
     "start_time": "2024-04-27T20:08:50.230044Z"
    }
   },
   "id": "30fc494c51ec61bb"
  },
  {
   "cell_type": "code",
   "execution_count": 37,
   "outputs": [
    {
     "data": {
      "text/plain": "      level          ec1           ec2 db_object_id db_object_symbol  \\\n0         1   EC:1.1.1.1  EC:1.1.1.103       P37686             yiaY   \n1         1   EC:1.1.1.1  EC:1.1.1.284       P25437             frmA   \n2         1   EC:1.1.1.1  EC:1.1.1.284       P25437             frmA   \n3         1   EC:1.1.1.1  EC:1.1.1.284       P25437             frmA   \n4         1   EC:1.1.1.1   EC:1.1.1.77       P0A9S1             fucO   \n...     ...          ...           ...          ...              ...   \n4735      1   EC:7.1.1.9    EC:7.1.1.3       P0ABI8             cyoB   \n4736      1  EC:7.2.2.12   EC:7.2.2.21       P37617             zntA   \n4737      1  EC:7.2.2.21   EC:7.2.2.12       P37617             zntA   \n4738      1   EC:7.2.2.8    EC:7.2.2.9       Q59385             copA   \n4739      1   EC:7.2.2.9    EC:7.2.2.8       Q59385             copA   \n\n              t1                                        t1label          t2  \\\n0     GO:0004022          alcohol dehydrogenase (NAD+) activity  GO:0008743   \n1     GO:0004022          alcohol dehydrogenase (NAD+) activity  GO:0106321   \n2     GO:0004022          alcohol dehydrogenase (NAD+) activity  GO:0051903   \n3     GO:0004022          alcohol dehydrogenase (NAD+) activity  GO:0106322   \n4     GO:0004022          alcohol dehydrogenase (NAD+) activity  GO:0008912   \n...          ...                                            ...         ...   \n4735  GO:0004129                  cytochrome-c oxidase activity  GO:0009486   \n4736  GO:0016463               P-type zinc transporter activity  GO:0008551   \n4737  GO:0008551            P-type cadmium transporter activity  GO:0016463   \n4738  GO:0140581  P-type monovalent copper transporter activity  GO:0043682   \n4739  GO:0043682    P-type divalent copper transporter activity  GO:0140581   \n\n                                                t2label  \n0                  L-threonine 3-dehydrogenase activity  \n1     S-(hydroxymethyl)glutathione dehydrogenase NAD...  \n2     S-(hydroxymethyl)glutathione dehydrogenase act...  \n3     S-(hydroxymethyl)glutathione dehydrogenase NAD...  \n4                       lactaldehyde reductase activity  \n...                                                 ...  \n4735          cytochrome bo3 ubiquinol oxidase activity  \n4736                P-type cadmium transporter activity  \n4737                   P-type zinc transporter activity  \n4738        P-type divalent copper transporter activity  \n4739      P-type monovalent copper transporter activity  \n\n[4740 rows x 9 columns]",
      "text/html": "<div>\n<style scoped>\n    .dataframe tbody tr th:only-of-type {\n        vertical-align: middle;\n    }\n\n    .dataframe tbody tr th {\n        vertical-align: top;\n    }\n\n    .dataframe thead th {\n        text-align: right;\n    }\n</style>\n<table border=\"1\" class=\"dataframe\">\n  <thead>\n    <tr style=\"text-align: right;\">\n      <th></th>\n      <th>level</th>\n      <th>ec1</th>\n      <th>ec2</th>\n      <th>db_object_id</th>\n      <th>db_object_symbol</th>\n      <th>t1</th>\n      <th>t1label</th>\n      <th>t2</th>\n      <th>t2label</th>\n    </tr>\n  </thead>\n  <tbody>\n    <tr>\n      <th>0</th>\n      <td>1</td>\n      <td>EC:1.1.1.1</td>\n      <td>EC:1.1.1.103</td>\n      <td>P37686</td>\n      <td>yiaY</td>\n      <td>GO:0004022</td>\n      <td>alcohol dehydrogenase (NAD+) activity</td>\n      <td>GO:0008743</td>\n      <td>L-threonine 3-dehydrogenase activity</td>\n    </tr>\n    <tr>\n      <th>1</th>\n      <td>1</td>\n      <td>EC:1.1.1.1</td>\n      <td>EC:1.1.1.284</td>\n      <td>P25437</td>\n      <td>frmA</td>\n      <td>GO:0004022</td>\n      <td>alcohol dehydrogenase (NAD+) activity</td>\n      <td>GO:0106321</td>\n      <td>S-(hydroxymethyl)glutathione dehydrogenase NAD...</td>\n    </tr>\n    <tr>\n      <th>2</th>\n      <td>1</td>\n      <td>EC:1.1.1.1</td>\n      <td>EC:1.1.1.284</td>\n      <td>P25437</td>\n      <td>frmA</td>\n      <td>GO:0004022</td>\n      <td>alcohol dehydrogenase (NAD+) activity</td>\n      <td>GO:0051903</td>\n      <td>S-(hydroxymethyl)glutathione dehydrogenase act...</td>\n    </tr>\n    <tr>\n      <th>3</th>\n      <td>1</td>\n      <td>EC:1.1.1.1</td>\n      <td>EC:1.1.1.284</td>\n      <td>P25437</td>\n      <td>frmA</td>\n      <td>GO:0004022</td>\n      <td>alcohol dehydrogenase (NAD+) activity</td>\n      <td>GO:0106322</td>\n      <td>S-(hydroxymethyl)glutathione dehydrogenase NAD...</td>\n    </tr>\n    <tr>\n      <th>4</th>\n      <td>1</td>\n      <td>EC:1.1.1.1</td>\n      <td>EC:1.1.1.77</td>\n      <td>P0A9S1</td>\n      <td>fucO</td>\n      <td>GO:0004022</td>\n      <td>alcohol dehydrogenase (NAD+) activity</td>\n      <td>GO:0008912</td>\n      <td>lactaldehyde reductase activity</td>\n    </tr>\n    <tr>\n      <th>...</th>\n      <td>...</td>\n      <td>...</td>\n      <td>...</td>\n      <td>...</td>\n      <td>...</td>\n      <td>...</td>\n      <td>...</td>\n      <td>...</td>\n      <td>...</td>\n    </tr>\n    <tr>\n      <th>4735</th>\n      <td>1</td>\n      <td>EC:7.1.1.9</td>\n      <td>EC:7.1.1.3</td>\n      <td>P0ABI8</td>\n      <td>cyoB</td>\n      <td>GO:0004129</td>\n      <td>cytochrome-c oxidase activity</td>\n      <td>GO:0009486</td>\n      <td>cytochrome bo3 ubiquinol oxidase activity</td>\n    </tr>\n    <tr>\n      <th>4736</th>\n      <td>1</td>\n      <td>EC:7.2.2.12</td>\n      <td>EC:7.2.2.21</td>\n      <td>P37617</td>\n      <td>zntA</td>\n      <td>GO:0016463</td>\n      <td>P-type zinc transporter activity</td>\n      <td>GO:0008551</td>\n      <td>P-type cadmium transporter activity</td>\n    </tr>\n    <tr>\n      <th>4737</th>\n      <td>1</td>\n      <td>EC:7.2.2.21</td>\n      <td>EC:7.2.2.12</td>\n      <td>P37617</td>\n      <td>zntA</td>\n      <td>GO:0008551</td>\n      <td>P-type cadmium transporter activity</td>\n      <td>GO:0016463</td>\n      <td>P-type zinc transporter activity</td>\n    </tr>\n    <tr>\n      <th>4738</th>\n      <td>1</td>\n      <td>EC:7.2.2.8</td>\n      <td>EC:7.2.2.9</td>\n      <td>Q59385</td>\n      <td>copA</td>\n      <td>GO:0140581</td>\n      <td>P-type monovalent copper transporter activity</td>\n      <td>GO:0043682</td>\n      <td>P-type divalent copper transporter activity</td>\n    </tr>\n    <tr>\n      <th>4739</th>\n      <td>1</td>\n      <td>EC:7.2.2.9</td>\n      <td>EC:7.2.2.8</td>\n      <td>Q59385</td>\n      <td>copA</td>\n      <td>GO:0043682</td>\n      <td>P-type divalent copper transporter activity</td>\n      <td>GO:0140581</td>\n      <td>P-type monovalent copper transporter activity</td>\n    </tr>\n  </tbody>\n</table>\n<p>4740 rows × 9 columns</p>\n</div>"
     },
     "execution_count": 37,
     "metadata": {},
     "output_type": "execute_result"
    }
   ],
   "source": [
    "# reorder columns so level is first\n",
    "data = data[['level', 'ec1', 'ec2', 'db_object_id', 'db_object_symbol', 't1', 't1label', 't2', 't2label']]\n",
    "data"
   ],
   "metadata": {
    "collapsed": false,
    "ExecuteTime": {
     "end_time": "2024-04-27T20:09:22.172867Z",
     "start_time": "2024-04-27T20:09:22.167450Z"
    }
   },
   "id": "3af70fe29279c382"
  },
  {
   "cell_type": "code",
   "execution_count": 38,
   "outputs": [],
   "source": [
    "data.to_csv('/tmp/ecocyc_ec_rule_violation_info.csv', index=False)"
   ],
   "metadata": {
    "collapsed": false,
    "ExecuteTime": {
     "end_time": "2024-04-27T20:09:54.171565Z",
     "start_time": "2024-04-27T20:09:54.150579Z"
    }
   },
   "id": "c136231f74d4daa7"
  },
  {
   "cell_type": "code",
   "execution_count": 29,
   "outputs": [
    {
     "data": {
      "text/plain": "Running query in 'duckdb:///../../tmp/ecocyc.db'",
      "text/html": "<span style=\"None\">Running query in &#x27;duckdb:///../../tmp/ecocyc.db&#x27;</span>"
     },
     "metadata": {},
     "output_type": "display_data"
    },
    {
     "data": {
      "text/plain": "+-------+\n| Count |\n+-------+\n+-------+",
      "text/html": "<table>\n    <thead>\n        <tr>\n            <th>Count</th>\n        </tr>\n    </thead>\n    <tbody>\n    </tbody>\n</table>"
     },
     "execution_count": 29,
     "metadata": {},
     "output_type": "execute_result"
    }
   ],
   "source": [
    "%%sql\n",
    "COPY (SELECT * FROM EC_rule_violation_info) TO '/tmp/ecocyc_ec_rule_violation_info.tsv' WITH CSV HEADER;"
   ],
   "metadata": {
    "collapsed": false,
    "ExecuteTime": {
     "end_time": "2024-04-27T20:06:03.731371Z",
     "start_time": "2024-04-27T20:06:03.429490Z"
    }
   },
   "id": "6240ca1a18fe2520"
  },
  {
   "cell_type": "code",
   "execution_count": 4,
   "outputs": [
    {
     "data": {
      "text/plain": "Running query in 'duckdb:///../../tmp/ecocyc.db'",
      "text/html": "<span style=\"None\">Running query in &#x27;duckdb:///../../tmp/ecocyc.db&#x27;</span>"
     },
     "metadata": {},
     "output_type": "display_data"
    },
    {
     "data": {
      "text/plain": "+-------+\n| Count |\n+-------+\n+-------+",
      "text/html": "<table>\n    <thead>\n        <tr>\n            <th>Count</th>\n        </tr>\n    </thead>\n    <tbody>\n    </tbody>\n</table>"
     },
     "execution_count": 4,
     "metadata": {},
     "output_type": "execute_result"
    }
   ],
   "source": [
    "%%sql\n",
    "CREATE VIEW IF NOT EXISTS EC_rule_violation_by_taxon_summary AS\n",
    "SELECT t1, t2, ec1, ec2, COUNT(distinct db_object_taxon) AS taxon_count\n",
    "FROM EC_rule_violation GROUP BY t1, t2, ec1, ec2;"
   ],
   "metadata": {
    "collapsed": false,
    "ExecuteTime": {
     "end_time": "2024-04-27T19:47:09.096368Z",
     "start_time": "2024-04-27T19:47:09.023258Z"
    }
   },
   "id": "42b49727d4a7f4af"
  },
  {
   "cell_type": "code",
   "execution_count": 5,
   "outputs": [
    {
     "data": {
      "text/plain": "Running query in 'duckdb:///../../tmp/ecocyc.db'",
      "text/html": "<span style=\"None\">Running query in &#x27;duckdb:///../../tmp/ecocyc.db&#x27;</span>"
     },
     "metadata": {},
     "output_type": "display_data"
    }
   ],
   "source": [
    "rows = %sql select l1.label AS l1,l2.label AS l2,r.* from EC_rule_violation_by_taxon_summary r INNER JOIN term_label AS l1 on t1=l1.id INNER JOIN term_label AS l2 on t2=l2.id WHERE t1!=t2 AND NOT EXISTS (select 1 from entailed_edge where subject=t1 and object=t2) AND NOT EXISTS (select 1 from entailed_edge where subject=t2 and object=t1) ORDER BY taxon_count DESC;"
   ],
   "metadata": {
    "collapsed": false,
    "ExecuteTime": {
     "end_time": "2024-04-27T19:47:12.735711Z",
     "start_time": "2024-04-27T19:47:12.447426Z"
    }
   },
   "id": "674990b173adbdcf"
  },
  {
   "cell_type": "code",
   "execution_count": 6,
   "outputs": [],
   "source": [
    "data = rows.DataFrame()"
   ],
   "metadata": {
    "collapsed": false,
    "ExecuteTime": {
     "end_time": "2024-04-27T19:47:13.457330Z",
     "start_time": "2024-04-27T19:47:13.219845Z"
    }
   },
   "id": "560437120032aab"
  },
  {
   "cell_type": "code",
   "execution_count": 7,
   "outputs": [
    {
     "data": {
      "text/plain": "0       1\n1       1\n2       1\n3       1\n4       1\n       ..\n4735    1\n4736    1\n4737    1\n4738    1\n4739    1\nName: taxon_count, Length: 4740, dtype: int64"
     },
     "execution_count": 7,
     "metadata": {},
     "output_type": "execute_result"
    }
   ],
   "source": [
    "data[\"taxon_count\"]"
   ],
   "metadata": {
    "collapsed": false,
    "ExecuteTime": {
     "end_time": "2024-04-27T19:47:20.054131Z",
     "start_time": "2024-04-27T19:47:20.046710Z"
    }
   },
   "id": "796756d4d5cd0798"
  },
  {
   "cell_type": "code",
   "execution_count": 8,
   "outputs": [
    {
     "data": {
      "text/plain": "<Figure size 1000x600 with 1 Axes>",
      "image/png": "[encoded data removed]"
     },
     "metadata": {},
     "output_type": "display_data"
    }
   ],
   "source": [
    "## plot distribution of taxon counts\n",
    "import matplotlib.pyplot as plt\n",
    "import seaborn as sns\n",
    "sns.set(style=\"whitegrid\")\n",
    "plt.figure(figsize=(10, 6))\n",
    "sns.histplot(data['taxon_count'], bins=30, kde=True, log_scale=True)\n",
    "plt.title('Distribution of Taxon Counts')\n",
    "plt.xlabel('Taxon Count')\n",
    "plt.ylabel('Frequency')\n",
    "plt.show()"
   ],
   "metadata": {
    "collapsed": false,
    "ExecuteTime": {
     "end_time": "2024-04-27T19:47:31.721168Z",
     "start_time": "2024-04-27T19:47:31.486353Z"
    }
   },
   "id": "82804e865cd77cf5"
  },
  {
   "cell_type": "code",
   "execution_count": 10,
   "outputs": [
    {
     "data": {
      "text/plain": "<Figure size 1000x800 with 3 Axes>",
      "image/png": "[encoded data removed]"
     },
     "metadata": {},
     "output_type": "display_data"
    }
   ],
   "source": [
    "import numpy as np\n",
    "import matplotlib.pyplot as plt\n",
    "from scipy.cluster import hierarchy\n",
    "\n",
    "# Generate a simple hierarchical linkage matrix for dendrogram with binary splits\n",
    "linkage_matrix = np.array([\n",
    "    [0, 1, 0.1, 2],\n",
    "    [2, 3, 0.1, 2],\n",
    "    [4, 5, 0.1, 2],\n",
    "    [6, 7, 0.1, 2],\n",
    "    [8, 9, 0.1, 2],\n",
    "    [10, 11, 0.1, 2],\n",
    "    [12, 13, 0.2, 4],\n",
    "    [14, 15, 0.2, 4],\n",
    "    [16, 17, 0.5, 8]  # Ensure unique cluster combination without reuse\n",
    "], dtype=float)\n",
    "\n",
    "# Prepare the heatmap data\n",
    "np.random.seed(0)\n",
    "matrix = np.random.poisson(1, (8, 8))  # 8x8 matrix for demonstration\n",
    "\n",
    "# Create the figure\n",
    "fig = plt.figure(figsize=(10, 8))\n",
    "\n",
    "# Axes for the heatmap\n",
    "ax_matrix = fig.add_axes([0.3, 0.1, 0.6, 0.6])\n",
    "im = ax_matrix.matshow(matrix, aspect='auto', origin='lower', cmap='viridis')\n",
    "ax_matrix.set_xticks(range(8))\n",
    "ax_matrix.set_yticks(range(8))\n",
    "ax_matrix.set_xticklabels([f\"EC {i+1}\" for i in range(8)])\n",
    "ax_matrix.set_yticklabels([f\"EC {i+1}\" for i in range(8)])\n",
    "\n",
    "# Axes for the row dendrogram\n",
    "ax_row_dendrogram = fig.add_axes([0.1, 0.1, 0.2, 0.6], frame_on=False)\n",
    "row_dendrogram = hierarchy.dendrogram(linkage_matrix, orientation='left', ax=ax_row_dendrogram, no_labels=True)\n",
    "ax_row_dendrogram.set_xticks([])\n",
    "ax_row_dendrogram.set_yticks([])\n",
    "\n",
    "# Axes for the column dendrogram\n",
    "ax_col_dendrogram = fig.add_axes([0.3, 0.71, 0.6, 0.2], frame_on=False)\n",
    "col_dendrogram = hierarchy.dendrogram(linkage_matrix, ax=ax_col_dendrogram, no_labels=True)\n",
    "ax_col_dendrogram.set_xticks([])\n",
    "ax_col_dendrogram.set_yticks([])\n",
    "\n",
    "# Adjust the positions of the ticks\n",
    "ax_matrix.yaxis.set_ticks_position('right')\n",
    "\n",
    "plt.show()\n"
   ],
   "metadata": {
    "collapsed": false,
    "ExecuteTime": {
     "end_time": "2024-04-27T19:49:21.966768Z",
     "start_time": "2024-04-27T19:49:21.841974Z"
    }
   },
   "id": "326799ac24fa51dd"
  },
  {
   "cell_type": "code",
   "execution_count": null,
   "outputs": [],
   "source": [],
   "metadata": {
    "collapsed": false
   },
   "id": "604e4d7d6b5b39bd"
  }
 ],
 "metadata": {
  "kernelspec": {
   "display_name": "Python 3",
   "language": "python",
   "name": "python3"
  },
  "language_info": {
   "codemirror_mode": {
    "name": "ipython",
    "version": 2
   },
   "file_extension": ".py",
   "mimetype": "text/x-python",
   "name": "python",
   "nbconvert_exporter": "python",
   "pygments_lexer": "ipython2",
   "version": "2.7.6"
  }
 },
 "nbformat": 4,
 "nbformat_minor": 5
}
